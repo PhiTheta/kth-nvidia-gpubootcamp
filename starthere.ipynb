{
 "cells": [
  {
   "cell_type": "markdown",
   "metadata": {},
   "source": [
    "# KTH - GPU BootCamp - Sep2019\n",
    "\n",
    "## Link\n",
    "https://app.linuxacademy.com/hands-on-labs/bddbc6db-9bb1-4b9d-96ed-4cf85e37e632  \n",
    "http://54.188.13.29"
   ]
  },
  {
   "cell_type": "markdown",
   "metadata": {},
   "source": [
    "# Welcome to the OpenACC Online Course Labs\n",
    "\n",
    "Welcome to the lab portion of the OpenACC online course, sposored by NVIDIA and Amazon Web Services. Please select the appropriate lab below.\n",
    "\n",
    "* [Lab 1](/lab1)\n",
    "* [Lab 2](/lab2)\n",
    "* [Lab 3](/lab3)"
   ]
  },
  {
   "cell_type": "code",
   "execution_count": null,
   "metadata": {},
   "outputs": [],
   "source": []
  }
 ],
 "metadata": {
  "kernelspec": {
   "display_name": "Python 3",
   "language": "python",
   "name": "python3"
  },
  "language_info": {
   "codemirror_mode": {
    "name": "ipython",
    "version": 3
   },
   "file_extension": ".py",
   "mimetype": "text/x-python",
   "name": "python",
   "nbconvert_exporter": "python",
   "pygments_lexer": "ipython3",
   "version": "3.7.3"
  }
 },
 "nbformat": 4,
 "nbformat_minor": 2
}
